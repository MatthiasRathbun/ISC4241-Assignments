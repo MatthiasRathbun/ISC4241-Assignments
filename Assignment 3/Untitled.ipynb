{
 "cells": [
  {
   "cell_type": "markdown",
   "id": "0fc3944f-de16-466a-9459-509d994725bb",
   "metadata": {},
   "source": [
    "# Assignment 3\n",
    "Matthias Rathbun, Mir Khan, Jay Nagabhairu, Jason Ng, Phoebe Collins  \n",
    "10/05/2022"
   ]
  },
  {
   "cell_type": "markdown",
   "id": "8622aa1b-40de-48ce-9c88-c498f0d9a9e0",
   "metadata": {},
   "source": []
  },
  {
   "cell_type": "code",
   "execution_count": 1,
   "id": "b77c834a-99d3-4748-9a2f-13949df506c2",
   "metadata": {},
   "outputs": [],
   "source": [
    "import pandas as pd\n",
    "import numpy as np\n",
    "pd.set_option('display.float_format', lambda x: '%.3f' % x)"
   ]
  },
  {
   "cell_type": "code",
   "execution_count": null,
   "id": "c3cbc056-3e19-4b10-871a-dd134df6544c",
   "metadata": {},
   "outputs": [],
   "source": []
  }
 ],
 "metadata": {
  "kernelspec": {
   "display_name": "Python 3 (ipykernel)",
   "language": "python",
   "name": "python3"
  },
  "language_info": {
   "codemirror_mode": {
    "name": "ipython",
    "version": 3
   },
   "file_extension": ".py",
   "mimetype": "text/x-python",
   "name": "python",
   "nbconvert_exporter": "python",
   "pygments_lexer": "ipython3",
   "version": "3.9.7"
  }
 },
 "nbformat": 4,
 "nbformat_minor": 5
}
